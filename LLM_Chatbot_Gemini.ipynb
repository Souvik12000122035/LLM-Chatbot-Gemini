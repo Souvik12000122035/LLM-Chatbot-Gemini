{
  "nbformat": 4,
  "nbformat_minor": 0,
  "metadata": {
    "colab": {
      "provenance": [],
      "authorship_tag": "ABX9TyO68W6OVzqEEaEO4Uloa3NX",
      "include_colab_link": true
    },
    "kernelspec": {
      "name": "python3",
      "display_name": "Python 3"
    },
    "language_info": {
      "name": "python"
    },
    "widgets": {
      "application/vnd.jupyter.widget-state+json": {
        "af1c8fe3e395448995432735f70c03ea": {
          "model_module": "@jupyter-widgets/controls",
          "model_name": "VBoxModel",
          "model_module_version": "1.5.0",
          "state": {
            "_dom_classes": [],
            "_model_module": "@jupyter-widgets/controls",
            "_model_module_version": "1.5.0",
            "_model_name": "VBoxModel",
            "_view_count": null,
            "_view_module": "@jupyter-widgets/controls",
            "_view_module_version": "1.5.0",
            "_view_name": "VBoxView",
            "box_style": "",
            "children": [
              "IPY_MODEL_e988c856a3d348048fe8f6fce5dcf756",
              "IPY_MODEL_e1f2bf430a0e420698f341fc05303ea2",
              "IPY_MODEL_b71845e17f0d4f74a5b3267d0cf52c9a"
            ],
            "layout": "IPY_MODEL_c5bc8294216e422a93f940222e9b3750"
          }
        },
        "e988c856a3d348048fe8f6fce5dcf756": {
          "model_module": "@jupyter-widgets/controls",
          "model_name": "TextModel",
          "model_module_version": "1.5.0",
          "state": {
            "_dom_classes": [],
            "_model_module": "@jupyter-widgets/controls",
            "_model_module_version": "1.5.0",
            "_model_name": "TextModel",
            "_view_count": null,
            "_view_module": "@jupyter-widgets/controls",
            "_view_module_version": "1.5.0",
            "_view_name": "TextView",
            "continuous_update": true,
            "description": "You:",
            "description_tooltip": null,
            "disabled": true,
            "layout": "IPY_MODEL_d4cd7dd8391243a4aba070fba7874940",
            "placeholder": "Enter your message here...",
            "style": "IPY_MODEL_268cb8af89684383ac1531953f3b3882",
            "value": "quit"
          }
        },
        "e1f2bf430a0e420698f341fc05303ea2": {
          "model_module": "@jupyter-widgets/controls",
          "model_name": "ButtonModel",
          "model_module_version": "1.5.0",
          "state": {
            "_dom_classes": [],
            "_model_module": "@jupyter-widgets/controls",
            "_model_module_version": "1.5.0",
            "_model_name": "ButtonModel",
            "_view_count": null,
            "_view_module": "@jupyter-widgets/controls",
            "_view_module_version": "1.5.0",
            "_view_name": "ButtonView",
            "button_style": "success",
            "description": "Send",
            "disabled": true,
            "icon": "",
            "layout": "IPY_MODEL_d59e98778b1043c899f4aae3c5a8ab2e",
            "style": "IPY_MODEL_2898b888614a40c4a3a3721992dcaf9d",
            "tooltip": ""
          }
        },
        "b71845e17f0d4f74a5b3267d0cf52c9a": {
          "model_module": "@jupyter-widgets/output",
          "model_name": "OutputModel",
          "model_module_version": "1.0.0",
          "state": {
            "_dom_classes": [],
            "_model_module": "@jupyter-widgets/output",
            "_model_module_version": "1.0.0",
            "_model_name": "OutputModel",
            "_view_count": null,
            "_view_module": "@jupyter-widgets/output",
            "_view_module_version": "1.0.0",
            "_view_name": "OutputView",
            "layout": "IPY_MODEL_fb9a6def9bfd4d9aa886700746254338",
            "msg_id": "",
            "outputs": [
              {
                "output_type": "stream",
                "name": "stdout",
                "text": [
                  "You: Hello!\n"
                ]
              },
              {
                "output_type": "stream",
                "name": "stdout",
                "text": [
                  "Chatbot: Hello to you too! How can I assist you?\n",
                  "\n",
                  "\n"
                ]
              },
              {
                "output_type": "stream",
                "name": "stdout",
                "text": [
                  "You: What's the speed of light?\n"
                ]
              },
              {
                "output_type": "stream",
                "name": "stdout",
                "text": [
                  "Chatbot: The speed of light in a vacuum is approximately **299,792,458 meters per second**, often rounded to **3 x 10⁸ m/s** or **186,282 miles per second**.\n",
                  "\n",
                  "\n"
                ]
              },
              {
                "output_type": "stream",
                "name": "stdout",
                "text": [
                  "You: Tell me a joke\n"
                ]
              },
              {
                "output_type": "stream",
                "name": "stdout",
                "text": [
                  "Chatbot: Why don't scientists trust atoms? \n",
                  "\n",
                  "Because they make up everything!\n",
                  "\n",
                  "\n"
                ]
              },
              {
                "output_type": "stream",
                "name": "stdout",
                "text": [
                  "You: quit\n",
                  "Chatbot: Goodbye! (You can close this cell.)\n"
                ]
              }
            ]
          }
        },
        "c5bc8294216e422a93f940222e9b3750": {
          "model_module": "@jupyter-widgets/base",
          "model_name": "LayoutModel",
          "model_module_version": "1.2.0",
          "state": {
            "_model_module": "@jupyter-widgets/base",
            "_model_module_version": "1.2.0",
            "_model_name": "LayoutModel",
            "_view_count": null,
            "_view_module": "@jupyter-widgets/base",
            "_view_module_version": "1.2.0",
            "_view_name": "LayoutView",
            "align_content": null,
            "align_items": null,
            "align_self": null,
            "border": null,
            "bottom": null,
            "display": null,
            "flex": null,
            "flex_flow": null,
            "grid_area": null,
            "grid_auto_columns": null,
            "grid_auto_flow": null,
            "grid_auto_rows": null,
            "grid_column": null,
            "grid_gap": null,
            "grid_row": null,
            "grid_template_areas": null,
            "grid_template_columns": null,
            "grid_template_rows": null,
            "height": null,
            "justify_content": null,
            "justify_items": null,
            "left": null,
            "margin": null,
            "max_height": null,
            "max_width": null,
            "min_height": null,
            "min_width": null,
            "object_fit": null,
            "object_position": null,
            "order": null,
            "overflow": null,
            "overflow_x": null,
            "overflow_y": null,
            "padding": null,
            "right": null,
            "top": null,
            "visibility": null,
            "width": null
          }
        },
        "d4cd7dd8391243a4aba070fba7874940": {
          "model_module": "@jupyter-widgets/base",
          "model_name": "LayoutModel",
          "model_module_version": "1.2.0",
          "state": {
            "_model_module": "@jupyter-widgets/base",
            "_model_module_version": "1.2.0",
            "_model_name": "LayoutModel",
            "_view_count": null,
            "_view_module": "@jupyter-widgets/base",
            "_view_module_version": "1.2.0",
            "_view_name": "LayoutView",
            "align_content": null,
            "align_items": null,
            "align_self": null,
            "border": null,
            "bottom": null,
            "display": null,
            "flex": null,
            "flex_flow": null,
            "grid_area": null,
            "grid_auto_columns": null,
            "grid_auto_flow": null,
            "grid_auto_rows": null,
            "grid_column": null,
            "grid_gap": null,
            "grid_row": null,
            "grid_template_areas": null,
            "grid_template_columns": null,
            "grid_template_rows": null,
            "height": null,
            "justify_content": null,
            "justify_items": null,
            "left": null,
            "margin": null,
            "max_height": null,
            "max_width": null,
            "min_height": null,
            "min_width": null,
            "object_fit": null,
            "object_position": null,
            "order": null,
            "overflow": null,
            "overflow_x": null,
            "overflow_y": null,
            "padding": null,
            "right": null,
            "top": null,
            "visibility": null,
            "width": "100%"
          }
        },
        "268cb8af89684383ac1531953f3b3882": {
          "model_module": "@jupyter-widgets/controls",
          "model_name": "DescriptionStyleModel",
          "model_module_version": "1.5.0",
          "state": {
            "_model_module": "@jupyter-widgets/controls",
            "_model_module_version": "1.5.0",
            "_model_name": "DescriptionStyleModel",
            "_view_count": null,
            "_view_module": "@jupyter-widgets/base",
            "_view_module_version": "1.2.0",
            "_view_name": "StyleView",
            "description_width": "initial"
          }
        },
        "d59e98778b1043c899f4aae3c5a8ab2e": {
          "model_module": "@jupyter-widgets/base",
          "model_name": "LayoutModel",
          "model_module_version": "1.2.0",
          "state": {
            "_model_module": "@jupyter-widgets/base",
            "_model_module_version": "1.2.0",
            "_model_name": "LayoutModel",
            "_view_count": null,
            "_view_module": "@jupyter-widgets/base",
            "_view_module_version": "1.2.0",
            "_view_name": "LayoutView",
            "align_content": null,
            "align_items": null,
            "align_self": null,
            "border": null,
            "bottom": null,
            "display": null,
            "flex": null,
            "flex_flow": null,
            "grid_area": null,
            "grid_auto_columns": null,
            "grid_auto_flow": null,
            "grid_auto_rows": null,
            "grid_column": null,
            "grid_gap": null,
            "grid_row": null,
            "grid_template_areas": null,
            "grid_template_columns": null,
            "grid_template_rows": null,
            "height": null,
            "justify_content": null,
            "justify_items": null,
            "left": null,
            "margin": null,
            "max_height": null,
            "max_width": null,
            "min_height": null,
            "min_width": null,
            "object_fit": null,
            "object_position": null,
            "order": null,
            "overflow": null,
            "overflow_x": null,
            "overflow_y": null,
            "padding": null,
            "right": null,
            "top": null,
            "visibility": null,
            "width": null
          }
        },
        "2898b888614a40c4a3a3721992dcaf9d": {
          "model_module": "@jupyter-widgets/controls",
          "model_name": "ButtonStyleModel",
          "model_module_version": "1.5.0",
          "state": {
            "_model_module": "@jupyter-widgets/controls",
            "_model_module_version": "1.5.0",
            "_model_name": "ButtonStyleModel",
            "_view_count": null,
            "_view_module": "@jupyter-widgets/base",
            "_view_module_version": "1.2.0",
            "_view_name": "StyleView",
            "button_color": null,
            "font_weight": ""
          }
        },
        "fb9a6def9bfd4d9aa886700746254338": {
          "model_module": "@jupyter-widgets/base",
          "model_name": "LayoutModel",
          "model_module_version": "1.2.0",
          "state": {
            "_model_module": "@jupyter-widgets/base",
            "_model_module_version": "1.2.0",
            "_model_name": "LayoutModel",
            "_view_count": null,
            "_view_module": "@jupyter-widgets/base",
            "_view_module_version": "1.2.0",
            "_view_name": "LayoutView",
            "align_content": null,
            "align_items": null,
            "align_self": null,
            "border": null,
            "bottom": null,
            "display": null,
            "flex": null,
            "flex_flow": null,
            "grid_area": null,
            "grid_auto_columns": null,
            "grid_auto_flow": null,
            "grid_auto_rows": null,
            "grid_column": null,
            "grid_gap": null,
            "grid_row": null,
            "grid_template_areas": null,
            "grid_template_columns": null,
            "grid_template_rows": null,
            "height": null,
            "justify_content": null,
            "justify_items": null,
            "left": null,
            "margin": null,
            "max_height": null,
            "max_width": null,
            "min_height": null,
            "min_width": null,
            "object_fit": null,
            "object_position": null,
            "order": null,
            "overflow": null,
            "overflow_x": null,
            "overflow_y": null,
            "padding": null,
            "right": null,
            "top": null,
            "visibility": null,
            "width": null
          }
        },
        "768f2177c5724d1692935a36614c96ca": {
          "model_module": "@jupyter-widgets/controls",
          "model_name": "HBoxModel",
          "model_module_version": "1.5.0",
          "state": {
            "_dom_classes": [],
            "_model_module": "@jupyter-widgets/controls",
            "_model_module_version": "1.5.0",
            "_model_name": "HBoxModel",
            "_view_count": null,
            "_view_module": "@jupyter-widgets/controls",
            "_view_module_version": "1.5.0",
            "_view_name": "HBoxView",
            "box_style": "",
            "children": [
              "IPY_MODEL_e1f2bf430a0e420698f341fc05303ea2",
              "IPY_MODEL_f72675dff0884f778bcdd77a2fe9f90c"
            ],
            "layout": "IPY_MODEL_6215020599c9423793443a3e575965f8"
          }
        },
        "f72675dff0884f778bcdd77a2fe9f90c": {
          "model_module": "@jupyter-widgets/controls",
          "model_name": "ButtonModel",
          "model_module_version": "1.5.0",
          "state": {
            "_dom_classes": [],
            "_model_module": "@jupyter-widgets/controls",
            "_model_module_version": "1.5.0",
            "_model_name": "ButtonModel",
            "_view_count": null,
            "_view_module": "@jupyter-widgets/controls",
            "_view_module_version": "1.5.0",
            "_view_name": "ButtonView",
            "button_style": "warning",
            "description": "Clear Chat",
            "disabled": false,
            "icon": "",
            "layout": "IPY_MODEL_491990c16cc04c72ba9200ed2c83aeb9",
            "style": "IPY_MODEL_fad3c917fc0c4c4fbf8093c59020893d",
            "tooltip": ""
          }
        },
        "6215020599c9423793443a3e575965f8": {
          "model_module": "@jupyter-widgets/base",
          "model_name": "LayoutModel",
          "model_module_version": "1.2.0",
          "state": {
            "_model_module": "@jupyter-widgets/base",
            "_model_module_version": "1.2.0",
            "_model_name": "LayoutModel",
            "_view_count": null,
            "_view_module": "@jupyter-widgets/base",
            "_view_module_version": "1.2.0",
            "_view_name": "LayoutView",
            "align_content": null,
            "align_items": null,
            "align_self": null,
            "border": null,
            "bottom": null,
            "display": null,
            "flex": null,
            "flex_flow": null,
            "grid_area": null,
            "grid_auto_columns": null,
            "grid_auto_flow": null,
            "grid_auto_rows": null,
            "grid_column": null,
            "grid_gap": null,
            "grid_row": null,
            "grid_template_areas": null,
            "grid_template_columns": null,
            "grid_template_rows": null,
            "height": null,
            "justify_content": null,
            "justify_items": null,
            "left": null,
            "margin": null,
            "max_height": null,
            "max_width": null,
            "min_height": null,
            "min_width": null,
            "object_fit": null,
            "object_position": null,
            "order": null,
            "overflow": null,
            "overflow_x": null,
            "overflow_y": null,
            "padding": null,
            "right": null,
            "top": null,
            "visibility": null,
            "width": null
          }
        },
        "491990c16cc04c72ba9200ed2c83aeb9": {
          "model_module": "@jupyter-widgets/base",
          "model_name": "LayoutModel",
          "model_module_version": "1.2.0",
          "state": {
            "_model_module": "@jupyter-widgets/base",
            "_model_module_version": "1.2.0",
            "_model_name": "LayoutModel",
            "_view_count": null,
            "_view_module": "@jupyter-widgets/base",
            "_view_module_version": "1.2.0",
            "_view_name": "LayoutView",
            "align_content": null,
            "align_items": null,
            "align_self": null,
            "border": null,
            "bottom": null,
            "display": null,
            "flex": null,
            "flex_flow": null,
            "grid_area": null,
            "grid_auto_columns": null,
            "grid_auto_flow": null,
            "grid_auto_rows": null,
            "grid_column": null,
            "grid_gap": null,
            "grid_row": null,
            "grid_template_areas": null,
            "grid_template_columns": null,
            "grid_template_rows": null,
            "height": null,
            "justify_content": null,
            "justify_items": null,
            "left": null,
            "margin": null,
            "max_height": null,
            "max_width": null,
            "min_height": null,
            "min_width": null,
            "object_fit": null,
            "object_position": null,
            "order": null,
            "overflow": null,
            "overflow_x": null,
            "overflow_y": null,
            "padding": null,
            "right": null,
            "top": null,
            "visibility": null,
            "width": null
          }
        },
        "fad3c917fc0c4c4fbf8093c59020893d": {
          "model_module": "@jupyter-widgets/controls",
          "model_name": "ButtonStyleModel",
          "model_module_version": "1.5.0",
          "state": {
            "_model_module": "@jupyter-widgets/controls",
            "_model_module_version": "1.5.0",
            "_model_name": "ButtonStyleModel",
            "_view_count": null,
            "_view_module": "@jupyter-widgets/base",
            "_view_module_version": "1.2.0",
            "_view_name": "StyleView",
            "button_color": null,
            "font_weight": ""
          }
        },
        "5604331d988d402ab7c9615854ee0151": {
          "model_module": "@jupyter-widgets/controls",
          "model_name": "HBoxModel",
          "model_module_version": "1.5.0",
          "state": {
            "_dom_classes": [],
            "_model_module": "@jupyter-widgets/controls",
            "_model_module_version": "1.5.0",
            "_model_name": "HBoxModel",
            "_view_count": null,
            "_view_module": "@jupyter-widgets/controls",
            "_view_module_version": "1.5.0",
            "_view_name": "HBoxView",
            "box_style": "",
            "children": [
              "IPY_MODEL_e1f2bf430a0e420698f341fc05303ea2",
              "IPY_MODEL_f72675dff0884f778bcdd77a2fe9f90c",
              "IPY_MODEL_6570631c0ef14781b5e632e4ded7e3ae"
            ],
            "layout": "IPY_MODEL_b0ff35d3ed944e25a519aa1ba4af0b4a"
          }
        },
        "6570631c0ef14781b5e632e4ded7e3ae": {
          "model_module": "@jupyter-widgets/controls",
          "model_name": "ButtonModel",
          "model_module_version": "1.5.0",
          "state": {
            "_dom_classes": [],
            "_model_module": "@jupyter-widgets/controls",
            "_model_module_version": "1.5.0",
            "_model_name": "ButtonModel",
            "_view_count": null,
            "_view_module": "@jupyter-widgets/controls",
            "_view_module_version": "1.5.0",
            "_view_name": "ButtonView",
            "button_style": "info",
            "description": "Download Chat Log",
            "disabled": false,
            "icon": "",
            "layout": "IPY_MODEL_ca9a86bcb30d4ab0bf2bd834d1525c66",
            "style": "IPY_MODEL_451f5367f2ab4dac8bc640ffc968da99",
            "tooltip": ""
          }
        },
        "b0ff35d3ed944e25a519aa1ba4af0b4a": {
          "model_module": "@jupyter-widgets/base",
          "model_name": "LayoutModel",
          "model_module_version": "1.2.0",
          "state": {
            "_model_module": "@jupyter-widgets/base",
            "_model_module_version": "1.2.0",
            "_model_name": "LayoutModel",
            "_view_count": null,
            "_view_module": "@jupyter-widgets/base",
            "_view_module_version": "1.2.0",
            "_view_name": "LayoutView",
            "align_content": null,
            "align_items": null,
            "align_self": null,
            "border": null,
            "bottom": null,
            "display": null,
            "flex": null,
            "flex_flow": null,
            "grid_area": null,
            "grid_auto_columns": null,
            "grid_auto_flow": null,
            "grid_auto_rows": null,
            "grid_column": null,
            "grid_gap": null,
            "grid_row": null,
            "grid_template_areas": null,
            "grid_template_columns": null,
            "grid_template_rows": null,
            "height": null,
            "justify_content": null,
            "justify_items": null,
            "left": null,
            "margin": null,
            "max_height": null,
            "max_width": null,
            "min_height": null,
            "min_width": null,
            "object_fit": null,
            "object_position": null,
            "order": null,
            "overflow": null,
            "overflow_x": null,
            "overflow_y": null,
            "padding": null,
            "right": null,
            "top": null,
            "visibility": null,
            "width": null
          }
        },
        "ca9a86bcb30d4ab0bf2bd834d1525c66": {
          "model_module": "@jupyter-widgets/base",
          "model_name": "LayoutModel",
          "model_module_version": "1.2.0",
          "state": {
            "_model_module": "@jupyter-widgets/base",
            "_model_module_version": "1.2.0",
            "_model_name": "LayoutModel",
            "_view_count": null,
            "_view_module": "@jupyter-widgets/base",
            "_view_module_version": "1.2.0",
            "_view_name": "LayoutView",
            "align_content": null,
            "align_items": null,
            "align_self": null,
            "border": null,
            "bottom": null,
            "display": null,
            "flex": null,
            "flex_flow": null,
            "grid_area": null,
            "grid_auto_columns": null,
            "grid_auto_flow": null,
            "grid_auto_rows": null,
            "grid_column": null,
            "grid_gap": null,
            "grid_row": null,
            "grid_template_areas": null,
            "grid_template_columns": null,
            "grid_template_rows": null,
            "height": null,
            "justify_content": null,
            "justify_items": null,
            "left": null,
            "margin": null,
            "max_height": null,
            "max_width": null,
            "min_height": null,
            "min_width": null,
            "object_fit": null,
            "object_position": null,
            "order": null,
            "overflow": null,
            "overflow_x": null,
            "overflow_y": null,
            "padding": null,
            "right": null,
            "top": null,
            "visibility": null,
            "width": null
          }
        },
        "451f5367f2ab4dac8bc640ffc968da99": {
          "model_module": "@jupyter-widgets/controls",
          "model_name": "ButtonStyleModel",
          "model_module_version": "1.5.0",
          "state": {
            "_model_module": "@jupyter-widgets/controls",
            "_model_module_version": "1.5.0",
            "_model_name": "ButtonStyleModel",
            "_view_count": null,
            "_view_module": "@jupyter-widgets/base",
            "_view_module_version": "1.2.0",
            "_view_name": "StyleView",
            "button_color": null,
            "font_weight": ""
          }
        },
        "9afdfc136efa4ab1a1e459eb3c56bf23": {
          "model_module": "@jupyter-widgets/controls",
          "model_name": "VBoxModel",
          "model_module_version": "1.5.0",
          "state": {
            "_dom_classes": [],
            "_model_module": "@jupyter-widgets/controls",
            "_model_module_version": "1.5.0",
            "_model_name": "VBoxModel",
            "_view_count": null,
            "_view_module": "@jupyter-widgets/controls",
            "_view_module_version": "1.5.0",
            "_view_name": "VBoxView",
            "box_style": "",
            "children": [
              "IPY_MODEL_832026de99ae4f8abe12240eb8c222bf",
              "IPY_MODEL_adbf000bc20e4859af8243016ab3b3fa",
              "IPY_MODEL_d290032dbc4742d584269eb8f66c8a78"
            ],
            "layout": "IPY_MODEL_e03f9ad44b304cf9ab8339f7f6d03660"
          }
        },
        "832026de99ae4f8abe12240eb8c222bf": {
          "model_module": "@jupyter-widgets/controls",
          "model_name": "TextModel",
          "model_module_version": "1.5.0",
          "state": {
            "_dom_classes": [],
            "_model_module": "@jupyter-widgets/controls",
            "_model_module_version": "1.5.0",
            "_model_name": "TextModel",
            "_view_count": null,
            "_view_module": "@jupyter-widgets/controls",
            "_view_module_version": "1.5.0",
            "_view_name": "TextView",
            "continuous_update": true,
            "description": "You:",
            "description_tooltip": null,
            "disabled": true,
            "layout": "IPY_MODEL_0e0fc1e1205a4a419e0a548f23508474",
            "placeholder": "Enter your message here...",
            "style": "IPY_MODEL_5c456777b7064dd3830cea0576c5bbd5",
            "value": "quit"
          }
        },
        "adbf000bc20e4859af8243016ab3b3fa": {
          "model_module": "@jupyter-widgets/controls",
          "model_name": "HBoxModel",
          "model_module_version": "1.5.0",
          "state": {
            "_dom_classes": [],
            "_model_module": "@jupyter-widgets/controls",
            "_model_module_version": "1.5.0",
            "_model_name": "HBoxModel",
            "_view_count": null,
            "_view_module": "@jupyter-widgets/controls",
            "_view_module_version": "1.5.0",
            "_view_name": "HBoxView",
            "box_style": "",
            "children": [
              "IPY_MODEL_afdbea3a13ea4bad9ca4d2529e28ad60",
              "IPY_MODEL_0959a98f87ea43e9997f676a81ae8681",
              "IPY_MODEL_d20e1c156d68429cada6640229a4fb2e"
            ],
            "layout": "IPY_MODEL_ff89f4a4cfbc4336a3daa5188bfa9b3c"
          }
        },
        "d290032dbc4742d584269eb8f66c8a78": {
          "model_module": "@jupyter-widgets/output",
          "model_name": "OutputModel",
          "model_module_version": "1.0.0",
          "state": {
            "_dom_classes": [],
            "_model_module": "@jupyter-widgets/output",
            "_model_module_version": "1.0.0",
            "_model_name": "OutputModel",
            "_view_count": null,
            "_view_module": "@jupyter-widgets/output",
            "_view_module_version": "1.0.0",
            "_view_name": "OutputView",
            "layout": "IPY_MODEL_2d6dfc02c1ef4554a1880ced4b91a6a3",
            "msg_id": "",
            "outputs": [
              {
                "output_type": "stream",
                "name": "stdout",
                "text": [
                  "[17:55:57] You: Hello!\n"
                ]
              },
              {
                "output_type": "stream",
                "name": "stdout",
                "text": [
                  "[17:55:57] Chatbot: Hello there!  How can I help you today?\n",
                  "\n",
                  "\n"
                ]
              },
              {
                "output_type": "stream",
                "name": "stdout",
                "text": [
                  "[17:57:11] You: What's the speed of light?\n"
                ]
              },
              {
                "output_type": "stream",
                "name": "stdout",
                "text": [
                  "[17:57:11] Chatbot: The speed of light in a vacuum is approximately 299,792,458 meters per second.  This is often rounded to 3 x 10<sup>8</sup> m/s.\n",
                  "\n",
                  "\n"
                ]
              },
              {
                "output_type": "stream",
                "name": "stdout",
                "text": [
                  "[17:57:26] You: Tell me a joke\n"
                ]
              },
              {
                "output_type": "stream",
                "name": "stdout",
                "text": [
                  "[17:57:26] Chatbot: Why did the bicycle fall over?  Because it was two tired.\n",
                  "\n",
                  "\n"
                ]
              },
              {
                "output_type": "stream",
                "name": "stdout",
                "text": [
                  "[17:57:39] You: quit\n",
                  "[17:57:39] Chatbot: Goodbye! (You can close this cell.)\n"
                ]
              }
            ]
          }
        },
        "e03f9ad44b304cf9ab8339f7f6d03660": {
          "model_module": "@jupyter-widgets/base",
          "model_name": "LayoutModel",
          "model_module_version": "1.2.0",
          "state": {
            "_model_module": "@jupyter-widgets/base",
            "_model_module_version": "1.2.0",
            "_model_name": "LayoutModel",
            "_view_count": null,
            "_view_module": "@jupyter-widgets/base",
            "_view_module_version": "1.2.0",
            "_view_name": "LayoutView",
            "align_content": null,
            "align_items": null,
            "align_self": null,
            "border": null,
            "bottom": null,
            "display": null,
            "flex": null,
            "flex_flow": null,
            "grid_area": null,
            "grid_auto_columns": null,
            "grid_auto_flow": null,
            "grid_auto_rows": null,
            "grid_column": null,
            "grid_gap": null,
            "grid_row": null,
            "grid_template_areas": null,
            "grid_template_columns": null,
            "grid_template_rows": null,
            "height": null,
            "justify_content": null,
            "justify_items": null,
            "left": null,
            "margin": null,
            "max_height": null,
            "max_width": null,
            "min_height": null,
            "min_width": null,
            "object_fit": null,
            "object_position": null,
            "order": null,
            "overflow": null,
            "overflow_x": null,
            "overflow_y": null,
            "padding": null,
            "right": null,
            "top": null,
            "visibility": null,
            "width": null
          }
        },
        "0e0fc1e1205a4a419e0a548f23508474": {
          "model_module": "@jupyter-widgets/base",
          "model_name": "LayoutModel",
          "model_module_version": "1.2.0",
          "state": {
            "_model_module": "@jupyter-widgets/base",
            "_model_module_version": "1.2.0",
            "_model_name": "LayoutModel",
            "_view_count": null,
            "_view_module": "@jupyter-widgets/base",
            "_view_module_version": "1.2.0",
            "_view_name": "LayoutView",
            "align_content": null,
            "align_items": null,
            "align_self": null,
            "border": null,
            "bottom": null,
            "display": null,
            "flex": null,
            "flex_flow": null,
            "grid_area": null,
            "grid_auto_columns": null,
            "grid_auto_flow": null,
            "grid_auto_rows": null,
            "grid_column": null,
            "grid_gap": null,
            "grid_row": null,
            "grid_template_areas": null,
            "grid_template_columns": null,
            "grid_template_rows": null,
            "height": null,
            "justify_content": null,
            "justify_items": null,
            "left": null,
            "margin": null,
            "max_height": null,
            "max_width": null,
            "min_height": null,
            "min_width": null,
            "object_fit": null,
            "object_position": null,
            "order": null,
            "overflow": null,
            "overflow_x": null,
            "overflow_y": null,
            "padding": null,
            "right": null,
            "top": null,
            "visibility": null,
            "width": "100%"
          }
        },
        "5c456777b7064dd3830cea0576c5bbd5": {
          "model_module": "@jupyter-widgets/controls",
          "model_name": "DescriptionStyleModel",
          "model_module_version": "1.5.0",
          "state": {
            "_model_module": "@jupyter-widgets/controls",
            "_model_module_version": "1.5.0",
            "_model_name": "DescriptionStyleModel",
            "_view_count": null,
            "_view_module": "@jupyter-widgets/base",
            "_view_module_version": "1.2.0",
            "_view_name": "StyleView",
            "description_width": "initial"
          }
        },
        "afdbea3a13ea4bad9ca4d2529e28ad60": {
          "model_module": "@jupyter-widgets/controls",
          "model_name": "ButtonModel",
          "model_module_version": "1.5.0",
          "state": {
            "_dom_classes": [],
            "_model_module": "@jupyter-widgets/controls",
            "_model_module_version": "1.5.0",
            "_model_name": "ButtonModel",
            "_view_count": null,
            "_view_module": "@jupyter-widgets/controls",
            "_view_module_version": "1.5.0",
            "_view_name": "ButtonView",
            "button_style": "success",
            "description": "Send",
            "disabled": true,
            "icon": "",
            "layout": "IPY_MODEL_d1c1764888bb4b8fbe213e090936b7a0",
            "style": "IPY_MODEL_54583a4f8b4f4348a48db711b5afe1bd",
            "tooltip": ""
          }
        },
        "0959a98f87ea43e9997f676a81ae8681": {
          "model_module": "@jupyter-widgets/controls",
          "model_name": "ButtonModel",
          "model_module_version": "1.5.0",
          "state": {
            "_dom_classes": [],
            "_model_module": "@jupyter-widgets/controls",
            "_model_module_version": "1.5.0",
            "_model_name": "ButtonModel",
            "_view_count": null,
            "_view_module": "@jupyter-widgets/controls",
            "_view_module_version": "1.5.0",
            "_view_name": "ButtonView",
            "button_style": "warning",
            "description": "Clear Chat",
            "disabled": false,
            "icon": "",
            "layout": "IPY_MODEL_bb8029f0377d476a8fd2465d84fa1d63",
            "style": "IPY_MODEL_888d4e4e6ecd41b68e40615818811687",
            "tooltip": ""
          }
        },
        "d20e1c156d68429cada6640229a4fb2e": {
          "model_module": "@jupyter-widgets/controls",
          "model_name": "ButtonModel",
          "model_module_version": "1.5.0",
          "state": {
            "_dom_classes": [],
            "_model_module": "@jupyter-widgets/controls",
            "_model_module_version": "1.5.0",
            "_model_name": "ButtonModel",
            "_view_count": null,
            "_view_module": "@jupyter-widgets/controls",
            "_view_module_version": "1.5.0",
            "_view_name": "ButtonView",
            "button_style": "info",
            "description": "Download Chat Log",
            "disabled": false,
            "icon": "",
            "layout": "IPY_MODEL_ea64b7411f5e400a9adf4e2147f87608",
            "style": "IPY_MODEL_b419053520aa41d29635c33c5c75b823",
            "tooltip": ""
          }
        },
        "ff89f4a4cfbc4336a3daa5188bfa9b3c": {
          "model_module": "@jupyter-widgets/base",
          "model_name": "LayoutModel",
          "model_module_version": "1.2.0",
          "state": {
            "_model_module": "@jupyter-widgets/base",
            "_model_module_version": "1.2.0",
            "_model_name": "LayoutModel",
            "_view_count": null,
            "_view_module": "@jupyter-widgets/base",
            "_view_module_version": "1.2.0",
            "_view_name": "LayoutView",
            "align_content": null,
            "align_items": null,
            "align_self": null,
            "border": null,
            "bottom": null,
            "display": null,
            "flex": null,
            "flex_flow": null,
            "grid_area": null,
            "grid_auto_columns": null,
            "grid_auto_flow": null,
            "grid_auto_rows": null,
            "grid_column": null,
            "grid_gap": null,
            "grid_row": null,
            "grid_template_areas": null,
            "grid_template_columns": null,
            "grid_template_rows": null,
            "height": null,
            "justify_content": null,
            "justify_items": null,
            "left": null,
            "margin": null,
            "max_height": null,
            "max_width": null,
            "min_height": null,
            "min_width": null,
            "object_fit": null,
            "object_position": null,
            "order": null,
            "overflow": null,
            "overflow_x": null,
            "overflow_y": null,
            "padding": null,
            "right": null,
            "top": null,
            "visibility": null,
            "width": null
          }
        },
        "d1c1764888bb4b8fbe213e090936b7a0": {
          "model_module": "@jupyter-widgets/base",
          "model_name": "LayoutModel",
          "model_module_version": "1.2.0",
          "state": {
            "_model_module": "@jupyter-widgets/base",
            "_model_module_version": "1.2.0",
            "_model_name": "LayoutModel",
            "_view_count": null,
            "_view_module": "@jupyter-widgets/base",
            "_view_module_version": "1.2.0",
            "_view_name": "LayoutView",
            "align_content": null,
            "align_items": null,
            "align_self": null,
            "border": null,
            "bottom": null,
            "display": null,
            "flex": null,
            "flex_flow": null,
            "grid_area": null,
            "grid_auto_columns": null,
            "grid_auto_flow": null,
            "grid_auto_rows": null,
            "grid_column": null,
            "grid_gap": null,
            "grid_row": null,
            "grid_template_areas": null,
            "grid_template_columns": null,
            "grid_template_rows": null,
            "height": null,
            "justify_content": null,
            "justify_items": null,
            "left": null,
            "margin": null,
            "max_height": null,
            "max_width": null,
            "min_height": null,
            "min_width": null,
            "object_fit": null,
            "object_position": null,
            "order": null,
            "overflow": null,
            "overflow_x": null,
            "overflow_y": null,
            "padding": null,
            "right": null,
            "top": null,
            "visibility": null,
            "width": null
          }
        },
        "54583a4f8b4f4348a48db711b5afe1bd": {
          "model_module": "@jupyter-widgets/controls",
          "model_name": "ButtonStyleModel",
          "model_module_version": "1.5.0",
          "state": {
            "_model_module": "@jupyter-widgets/controls",
            "_model_module_version": "1.5.0",
            "_model_name": "ButtonStyleModel",
            "_view_count": null,
            "_view_module": "@jupyter-widgets/base",
            "_view_module_version": "1.2.0",
            "_view_name": "StyleView",
            "button_color": null,
            "font_weight": ""
          }
        },
        "bb8029f0377d476a8fd2465d84fa1d63": {
          "model_module": "@jupyter-widgets/base",
          "model_name": "LayoutModel",
          "model_module_version": "1.2.0",
          "state": {
            "_model_module": "@jupyter-widgets/base",
            "_model_module_version": "1.2.0",
            "_model_name": "LayoutModel",
            "_view_count": null,
            "_view_module": "@jupyter-widgets/base",
            "_view_module_version": "1.2.0",
            "_view_name": "LayoutView",
            "align_content": null,
            "align_items": null,
            "align_self": null,
            "border": null,
            "bottom": null,
            "display": null,
            "flex": null,
            "flex_flow": null,
            "grid_area": null,
            "grid_auto_columns": null,
            "grid_auto_flow": null,
            "grid_auto_rows": null,
            "grid_column": null,
            "grid_gap": null,
            "grid_row": null,
            "grid_template_areas": null,
            "grid_template_columns": null,
            "grid_template_rows": null,
            "height": null,
            "justify_content": null,
            "justify_items": null,
            "left": null,
            "margin": null,
            "max_height": null,
            "max_width": null,
            "min_height": null,
            "min_width": null,
            "object_fit": null,
            "object_position": null,
            "order": null,
            "overflow": null,
            "overflow_x": null,
            "overflow_y": null,
            "padding": null,
            "right": null,
            "top": null,
            "visibility": null,
            "width": null
          }
        },
        "888d4e4e6ecd41b68e40615818811687": {
          "model_module": "@jupyter-widgets/controls",
          "model_name": "ButtonStyleModel",
          "model_module_version": "1.5.0",
          "state": {
            "_model_module": "@jupyter-widgets/controls",
            "_model_module_version": "1.5.0",
            "_model_name": "ButtonStyleModel",
            "_view_count": null,
            "_view_module": "@jupyter-widgets/base",
            "_view_module_version": "1.2.0",
            "_view_name": "StyleView",
            "button_color": null,
            "font_weight": ""
          }
        },
        "ea64b7411f5e400a9adf4e2147f87608": {
          "model_module": "@jupyter-widgets/base",
          "model_name": "LayoutModel",
          "model_module_version": "1.2.0",
          "state": {
            "_model_module": "@jupyter-widgets/base",
            "_model_module_version": "1.2.0",
            "_model_name": "LayoutModel",
            "_view_count": null,
            "_view_module": "@jupyter-widgets/base",
            "_view_module_version": "1.2.0",
            "_view_name": "LayoutView",
            "align_content": null,
            "align_items": null,
            "align_self": null,
            "border": null,
            "bottom": null,
            "display": null,
            "flex": null,
            "flex_flow": null,
            "grid_area": null,
            "grid_auto_columns": null,
            "grid_auto_flow": null,
            "grid_auto_rows": null,
            "grid_column": null,
            "grid_gap": null,
            "grid_row": null,
            "grid_template_areas": null,
            "grid_template_columns": null,
            "grid_template_rows": null,
            "height": null,
            "justify_content": null,
            "justify_items": null,
            "left": null,
            "margin": null,
            "max_height": null,
            "max_width": null,
            "min_height": null,
            "min_width": null,
            "object_fit": null,
            "object_position": null,
            "order": null,
            "overflow": null,
            "overflow_x": null,
            "overflow_y": null,
            "padding": null,
            "right": null,
            "top": null,
            "visibility": null,
            "width": null
          }
        },
        "b419053520aa41d29635c33c5c75b823": {
          "model_module": "@jupyter-widgets/controls",
          "model_name": "ButtonStyleModel",
          "model_module_version": "1.5.0",
          "state": {
            "_model_module": "@jupyter-widgets/controls",
            "_model_module_version": "1.5.0",
            "_model_name": "ButtonStyleModel",
            "_view_count": null,
            "_view_module": "@jupyter-widgets/base",
            "_view_module_version": "1.2.0",
            "_view_name": "StyleView",
            "button_color": null,
            "font_weight": ""
          }
        },
        "2d6dfc02c1ef4554a1880ced4b91a6a3": {
          "model_module": "@jupyter-widgets/base",
          "model_name": "LayoutModel",
          "model_module_version": "1.2.0",
          "state": {
            "_model_module": "@jupyter-widgets/base",
            "_model_module_version": "1.2.0",
            "_model_name": "LayoutModel",
            "_view_count": null,
            "_view_module": "@jupyter-widgets/base",
            "_view_module_version": "1.2.0",
            "_view_name": "LayoutView",
            "align_content": null,
            "align_items": null,
            "align_self": null,
            "border": null,
            "bottom": null,
            "display": null,
            "flex": null,
            "flex_flow": null,
            "grid_area": null,
            "grid_auto_columns": null,
            "grid_auto_flow": null,
            "grid_auto_rows": null,
            "grid_column": null,
            "grid_gap": null,
            "grid_row": null,
            "grid_template_areas": null,
            "grid_template_columns": null,
            "grid_template_rows": null,
            "height": null,
            "justify_content": null,
            "justify_items": null,
            "left": null,
            "margin": null,
            "max_height": null,
            "max_width": null,
            "min_height": null,
            "min_width": null,
            "object_fit": null,
            "object_position": null,
            "order": null,
            "overflow": null,
            "overflow_x": null,
            "overflow_y": null,
            "padding": null,
            "right": null,
            "top": null,
            "visibility": null,
            "width": null
          }
        }
      }
    }
  },
  "cells": [
    {
      "cell_type": "markdown",
      "metadata": {
        "id": "view-in-github",
        "colab_type": "text"
      },
      "source": [
        "<a href=\"https://colab.research.google.com/github/Souvik12000122035/LLM-Chatbot-Gemini/blob/main/LLM_Chatbot_Gemini.ipynb\" target=\"_parent\"><img src=\"https://colab.research.google.com/assets/colab-badge.svg\" alt=\"Open In Colab\"/></a>"
      ]
    },
    {
      "cell_type": "markdown",
      "source": [
        "# LLM-Chatbot-Gemini"
      ],
      "metadata": {
        "id": "Nl9PeIcRJ94m"
      }
    },
    {
      "cell_type": "code",
      "execution_count": 3,
      "metadata": {
        "id": "2pMcpVMqGEDI"
      },
      "outputs": [],
      "source": [
        "!pip install -q google-generativeai\n"
      ]
    },
    {
      "cell_type": "code",
      "source": [
        "import google.generativeai as genai\n",
        "import os\n",
        "from getpass import getpass\n",
        "\n",
        "# Enter your API key\n",
        "api_key = getpass(\"Enter your Google API key: \")\n",
        "os.environ[\"GOOGLE_API_KEY\"] = api_key\n",
        "\n",
        "# Configure and create chat object\n",
        "genai.configure(api_key=api_key)\n",
        "model = genai.GenerativeModel(\"models/gemini-1.5-flash\")\n",
        "chat = model.start_chat(history=[])\n"
      ],
      "metadata": {
        "colab": {
          "base_uri": "https://localhost:8080/"
        },
        "id": "5VqpHIlZGeb1",
        "outputId": "584d3cfd-8c33-4b0b-d9b2-3faa03e472a1"
      },
      "execution_count": 4,
      "outputs": [
        {
          "name": "stdout",
          "output_type": "stream",
          "text": [
            "Enter your Google API key: ··········\n"
          ]
        }
      ]
    },
    {
      "cell_type": "markdown",
      "source": [
        "# Web Chat UI with ipywidgets"
      ],
      "metadata": {
        "id": "vkSl98WDJt3P"
      }
    },
    {
      "cell_type": "code",
      "source": [
        "from IPython.display import display\n",
        "import ipywidgets as widgets\n",
        "\n",
        "# Create input and output widgets\n",
        "input_box = widgets.Text(\n",
        "    description=\"You:\",\n",
        "    placeholder=\"Enter your message here...\",\n",
        "    style={'description_width': 'initial'},\n",
        "    layout=widgets.Layout(width='100%')\n",
        ")\n",
        "send_button = widgets.Button(description=\"Send\", button_style='success')\n",
        "output_area = widgets.Output()\n",
        "\n",
        "# Function to handle chat\n",
        "def on_button_click(b):\n",
        "    with output_area:\n",
        "        prompt = input_box.value.strip()\n",
        "        if not prompt:\n",
        "            print(\"⚠️ Please enter a message.\")\n",
        "            return\n",
        "        print(f\"You: {prompt}\")\n",
        "        if prompt.lower() in [\"exit\", \"quit\"]:\n",
        "            print(\"Chatbot: Goodbye! (You can close this cell.)\")\n",
        "            input_box.disabled = True\n",
        "            send_button.disabled = True\n",
        "            return\n",
        "        response = chat.send_message(prompt)\n",
        "        print(f\"Chatbot: {response.text}\\n\")\n",
        "        input_box.value = \"\"  # Clear input\n",
        "\n",
        "# Attach click event\n",
        "send_button.on_click(on_button_click)\n",
        "\n",
        "# Show chatbot UI\n",
        "display(widgets.VBox([input_box, send_button, output_area]))\n"
      ],
      "metadata": {
        "colab": {
          "base_uri": "https://localhost:8080/",
          "height": 391,
          "referenced_widgets": [
            "af1c8fe3e395448995432735f70c03ea",
            "e988c856a3d348048fe8f6fce5dcf756",
            "e1f2bf430a0e420698f341fc05303ea2",
            "b71845e17f0d4f74a5b3267d0cf52c9a",
            "c5bc8294216e422a93f940222e9b3750",
            "d4cd7dd8391243a4aba070fba7874940",
            "268cb8af89684383ac1531953f3b3882",
            "d59e98778b1043c899f4aae3c5a8ab2e",
            "2898b888614a40c4a3a3721992dcaf9d",
            "fb9a6def9bfd4d9aa886700746254338"
          ]
        },
        "id": "yLUZq3aiGtQI",
        "outputId": "13718c9b-b91c-4df1-c151-90a3b33adaf5"
      },
      "execution_count": 6,
      "outputs": [
        {
          "output_type": "display_data",
          "data": {
            "text/plain": [
              "VBox(children=(Text(value='', description='You:', layout=Layout(width='100%'), placeholder='Enter your message…"
            ],
            "application/vnd.jupyter.widget-view+json": {
              "version_major": 2,
              "version_minor": 0,
              "model_id": "af1c8fe3e395448995432735f70c03ea"
            }
          },
          "metadata": {}
        }
      ]
    },
    {
      "cell_type": "markdown",
      "source": [
        "# Save Chat History"
      ],
      "metadata": {
        "id": "iKVwBxNoJiXB"
      }
    },
    {
      "cell_type": "code",
      "source": [
        "chat_log = []\n",
        "\n",
        "def on_button_click(b):\n",
        "    with output_area:\n",
        "        prompt = input_box.value.strip()\n",
        "        if not prompt:\n",
        "            print(\"⚠️ Please enter a message.\")\n",
        "            return\n",
        "        print(f\"You: {prompt}\")\n",
        "        chat_log.append(f\"You: {prompt}\")\n",
        "        if prompt.lower() in [\"exit\", \"quit\"]:\n",
        "            print(\"Chatbot: Goodbye! (You can close this cell.)\")\n",
        "            chat_log.append(\"Chatbot: Goodbye!\")\n",
        "            input_box.disabled = True\n",
        "            send_button.disabled = True\n",
        "            return\n",
        "        response = chat.send_message(prompt)\n",
        "        print(f\"Chatbot: {response.text}\\n\")\n",
        "        chat_log.append(f\"Chatbot: {response.text}\")\n",
        "        input_box.value = \"\"\n",
        "\n",
        "# Save as text file\n",
        "def save_chat_to_file():\n",
        "    with open(\"chat_log.txt\", \"w\") as file:\n",
        "        file.write(\"\\n\".join(chat_log))\n",
        "    print(\"✅ Chat saved to chat_log.txt\")\n",
        "\n",
        "# Run this manually after chatting:\n",
        "# save_chat_to_file()\n"
      ],
      "metadata": {
        "id": "Abifw9CrHWIK"
      },
      "execution_count": 7,
      "outputs": []
    },
    {
      "cell_type": "markdown",
      "source": [
        "# Add a Clear/Reset Button"
      ],
      "metadata": {
        "id": "Fjh7hJ--JbiQ"
      }
    },
    {
      "cell_type": "code",
      "source": [
        "clear_button = widgets.Button(description=\"Clear Chat\", button_style='warning')\n",
        "\n",
        "def on_clear_click(b):\n",
        "    output_area.clear_output()\n",
        "    chat.history.clear()\n",
        "    input_box.disabled = False\n",
        "    send_button.disabled = False\n",
        "    input_box.value = \"\"\n",
        "\n",
        "clear_button.on_click(on_clear_click)\n",
        "display(widgets.HBox([send_button, clear_button]))\n"
      ],
      "metadata": {
        "colab": {
          "base_uri": "https://localhost:8080/",
          "height": 49,
          "referenced_widgets": [
            "768f2177c5724d1692935a36614c96ca",
            "e1f2bf430a0e420698f341fc05303ea2",
            "f72675dff0884f778bcdd77a2fe9f90c",
            "6215020599c9423793443a3e575965f8",
            "d59e98778b1043c899f4aae3c5a8ab2e",
            "2898b888614a40c4a3a3721992dcaf9d",
            "491990c16cc04c72ba9200ed2c83aeb9",
            "fad3c917fc0c4c4fbf8093c59020893d"
          ]
        },
        "id": "SN8U8dAlHaVY",
        "outputId": "ed363f14-7a9d-4de0-9fa7-dc41c111e28b"
      },
      "execution_count": 8,
      "outputs": [
        {
          "output_type": "display_data",
          "data": {
            "text/plain": [
              "HBox(children=(Button(button_style='success', description='Send', disabled=True, style=ButtonStyle()), Button(…"
            ],
            "application/vnd.jupyter.widget-view+json": {
              "version_major": 2,
              "version_minor": 0,
              "model_id": "768f2177c5724d1692935a36614c96ca"
            }
          },
          "metadata": {}
        }
      ]
    },
    {
      "cell_type": "markdown",
      "source": [
        "# Add Timestamp to Each Message"
      ],
      "metadata": {
        "id": "b23ptsWyJVv4"
      }
    },
    {
      "cell_type": "code",
      "source": [
        "from datetime import datetime\n",
        "\n",
        "chat_log = []\n",
        "\n",
        "def on_button_click(b):\n",
        "    with output_area:\n",
        "        prompt = input_box.value.strip()\n",
        "        if not prompt:\n",
        "            print(\"⚠️ Please enter a message.\")\n",
        "            return\n",
        "\n",
        "        timestamp = datetime.now().strftime(\"%H:%M:%S\") # Define timestamp inside the function\n",
        "\n",
        "        print(f\"[{timestamp}] You: {prompt}\") # Add timestamp to the printed output\n",
        "        chat_log.append(f\"[{timestamp}] You: {prompt}\")\n",
        "\n",
        "        if prompt.lower() in [\"exit\", \"quit\"]:\n",
        "            print(f\"[{timestamp}] Chatbot: Goodbye! (You can close this cell.)\") # Add timestamp\n",
        "            chat_log.append(f\"[{timestamp}] Chatbot: Goodbye!\") # Add timestamp\n",
        "            input_box.disabled = True\n",
        "            send_button.disabled = True\n",
        "            return\n",
        "\n",
        "        response = chat.send_message(prompt)\n",
        "        print(f\"[{timestamp}] Chatbot: {response.text}\\n\") # Add timestamp\n",
        "        chat_log.append(f\"[{timestamp}] Chatbot: {response.text}\") # Add timestamp\n",
        "\n",
        "        input_box.value = \"\"\n",
        "\n",
        "# Save as text file\n",
        "def save_chat_to_file():\n",
        "    with open(\"chat_log.txt\", \"w\") as file:\n",
        "        file.write(\"\\n\".join(chat_log))\n",
        "    print(\"✅ Chat saved to chat_log.txt\")\n"
      ],
      "metadata": {
        "id": "SkZ01-QUH2yQ"
      },
      "execution_count": 10,
      "outputs": []
    },
    {
      "cell_type": "markdown",
      "source": [
        "# Add Download Button for Chat Log"
      ],
      "metadata": {
        "id": "-wbWYEqPJPKy"
      }
    },
    {
      "cell_type": "code",
      "source": [
        "from google.colab import files\n",
        "\n",
        "download_button = widgets.Button(description=\"Download Chat Log\", button_style='info')\n",
        "\n",
        "def on_download_click(b):\n",
        "    save_chat_to_file()\n",
        "    files.download(\"chat_log.txt\")\n",
        "\n",
        "download_button.on_click(on_download_click)\n",
        "display(widgets.HBox([send_button, clear_button, download_button]))"
      ],
      "metadata": {
        "colab": {
          "base_uri": "https://localhost:8080/",
          "height": 49,
          "referenced_widgets": [
            "5604331d988d402ab7c9615854ee0151",
            "e1f2bf430a0e420698f341fc05303ea2",
            "f72675dff0884f778bcdd77a2fe9f90c",
            "6570631c0ef14781b5e632e4ded7e3ae",
            "b0ff35d3ed944e25a519aa1ba4af0b4a",
            "d59e98778b1043c899f4aae3c5a8ab2e",
            "2898b888614a40c4a3a3721992dcaf9d",
            "491990c16cc04c72ba9200ed2c83aeb9",
            "fad3c917fc0c4c4fbf8093c59020893d",
            "ca9a86bcb30d4ab0bf2bd834d1525c66",
            "451f5367f2ab4dac8bc640ffc968da99"
          ]
        },
        "id": "3bQkHpZVIOcQ",
        "outputId": "46fe6ad7-024b-411a-80fe-001f2d45c919"
      },
      "execution_count": 11,
      "outputs": [
        {
          "output_type": "display_data",
          "data": {
            "text/plain": [
              "HBox(children=(Button(button_style='success', description='Send', disabled=True, style=ButtonStyle()), Button(…"
            ],
            "application/vnd.jupyter.widget-view+json": {
              "version_major": 2,
              "version_minor": 0,
              "model_id": "5604331d988d402ab7c9615854ee0151"
            }
          },
          "metadata": {}
        }
      ]
    },
    {
      "cell_type": "markdown",
      "source": [
        "# Customize Chatbot Personality"
      ],
      "metadata": {
        "id": "q6-x0yz-JIxg"
      }
    },
    {
      "cell_type": "code",
      "source": [
        "genai.configure(api_key=api_key)\n",
        "\n",
        "personality_history = [\n",
        "    {\"role\": \"user\", \"parts\": [\"Hello!\"]},\n",
        "    {\"role\": \"model\", \"parts\": [\"Greetings, human. I am an AI with a dry sense of humor.\"]},\n",
        "    {\"role\": \"user\", \"parts\": [\"Tell me a joke.\"]},\n",
        "    {\"role\": \"model\", \"parts\": [\"Why don't scientists trust atoms? Because they make up everything! *cricket sounds*\"]},\n",
        "]\n",
        "\n",
        "model = genai.GenerativeModel(\"models/gemini-1.5-flash\")\n",
        "chat = model.start_chat(history=personality_history)\n",
        "\n",
        "# Create input and output widgets\n",
        "input_box = widgets.Text(\n",
        "    description=\"You:\",\n",
        "    placeholder=\"Enter your message here...\",\n",
        "    style={'description_width': 'initial'},\n",
        "    layout=widgets.Layout(width='100%')\n",
        ")\n",
        "send_button = widgets.Button(description=\"Send\", button_style='success')\n",
        "output_area = widgets.Output()\n",
        "\n",
        "chat_log = []\n",
        "\n",
        "# Function to handle chat\n",
        "def on_button_click(b):\n",
        "    with output_area:\n",
        "        prompt = input_box.value.strip()\n",
        "        if not prompt:\n",
        "            print(\"⚠️ Please enter a message.\")\n",
        "            return\n",
        "\n",
        "        timestamp = datetime.now().strftime(\"%H:%M:%S\")\n",
        "\n",
        "        print(f\"[{timestamp}] You: {prompt}\")\n",
        "        chat_log.append(f\"[{timestamp}] You: {prompt}\")\n",
        "\n",
        "        if prompt.lower() in [\"exit\", \"quit\"]:\n",
        "            print(f\"[{timestamp}] Chatbot: Goodbye! (You can close this cell.)\")\n",
        "            chat_log.append(f\"[{timestamp}] Chatbot: Goodbye!\")\n",
        "            input_box.disabled = True\n",
        "            send_button.disabled = True\n",
        "            return\n",
        "\n",
        "        response = chat.send_message(prompt)\n",
        "        print(f\"[{timestamp}] Chatbot: {response.text}\\n\")\n",
        "        chat_log.append(f\"[{timestamp}] Chatbot: {response.text}\")\n",
        "\n",
        "        input_box.value = \"\"\n",
        "\n",
        "# Save as text file\n",
        "def save_chat_to_file():\n",
        "    with open(\"chat_log.txt\", \"w\") as file:\n",
        "        file.write(\"\\n\".join(chat_log))\n",
        "    print(\"✅ Chat saved to chat_log.txt\")\n",
        "\n",
        "\n",
        "# Attach click event\n",
        "send_button.on_click(on_button_click)\n",
        "clear_button = widgets.Button(description=\"Clear Chat\", button_style='warning')\n",
        "\n",
        "def on_clear_click(b):\n",
        "    output_area.clear_output()\n",
        "    # When clearing, restart the chat with the original personality history\n",
        "    chat.history.clear()\n",
        "    for exchange in personality_history:\n",
        "        chat.history.append(exchange)\n",
        "    chat_log.clear() # Also clear the local chat log\n",
        "    input_box.disabled = False\n",
        "    send_button.disabled = False\n",
        "    input_box.value = \"\"\n",
        "\n",
        "clear_button.on_click(on_clear_click)\n",
        "\n",
        "download_button = widgets.Button(description=\"Download Chat Log\", button_style='info')\n",
        "\n",
        "def on_download_click(b):\n",
        "    save_chat_to_file()\n",
        "    files.download(\"chat_log.txt\")\n",
        "\n",
        "download_button.on_click(on_download_click)\n",
        "\n",
        "# Show chatbot UI\n",
        "display(widgets.VBox([input_box, widgets.HBox([send_button, clear_button, download_button]), output_area]))"
      ],
      "metadata": {
        "colab": {
          "base_uri": "https://localhost:8080/",
          "height": 357,
          "referenced_widgets": [
            "9afdfc136efa4ab1a1e459eb3c56bf23",
            "832026de99ae4f8abe12240eb8c222bf",
            "adbf000bc20e4859af8243016ab3b3fa",
            "d290032dbc4742d584269eb8f66c8a78",
            "e03f9ad44b304cf9ab8339f7f6d03660",
            "0e0fc1e1205a4a419e0a548f23508474",
            "5c456777b7064dd3830cea0576c5bbd5",
            "afdbea3a13ea4bad9ca4d2529e28ad60",
            "0959a98f87ea43e9997f676a81ae8681",
            "d20e1c156d68429cada6640229a4fb2e",
            "ff89f4a4cfbc4336a3daa5188bfa9b3c",
            "d1c1764888bb4b8fbe213e090936b7a0",
            "54583a4f8b4f4348a48db711b5afe1bd",
            "bb8029f0377d476a8fd2465d84fa1d63",
            "888d4e4e6ecd41b68e40615818811687",
            "ea64b7411f5e400a9adf4e2147f87608",
            "b419053520aa41d29635c33c5c75b823",
            "2d6dfc02c1ef4554a1880ced4b91a6a3"
          ]
        },
        "id": "ccpUNv7mIcWo",
        "outputId": "a2ffecd5-7b07-47ba-c51b-21b5d3213fc3"
      },
      "execution_count": 12,
      "outputs": [
        {
          "output_type": "display_data",
          "data": {
            "text/plain": [
              "VBox(children=(Text(value='', description='You:', layout=Layout(width='100%'), placeholder='Enter your message…"
            ],
            "application/vnd.jupyter.widget-view+json": {
              "version_major": 2,
              "version_minor": 0,
              "model_id": "9afdfc136efa4ab1a1e459eb3c56bf23"
            }
          },
          "metadata": {}
        }
      ]
    }
  ]
}